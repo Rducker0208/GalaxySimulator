{
  "nbformat": 4,
  "nbformat_minor": 0,
  "metadata": {
    "colab": {
      "provenance": [],
      "authorship_tag": "ABX9TyO+CXw6D3JH8AXtf5VKP4lM",
      "include_colab_link": true
    },
    "kernelspec": {
      "name": "python3",
      "display_name": "Python 3"
    },
    "language_info": {
      "name": "python"
    }
  },
  "cells": [
    {
      "cell_type": "markdown",
      "metadata": {
        "id": "view-in-github",
        "colab_type": "text"
      },
      "source": [
        "<a href=\"https://colab.research.google.com/github/Rducker0208/GalaxySimulator/blob/main/Zonnestelsel.ipynb\" target=\"_parent\"><img src=\"https://colab.research.google.com/assets/colab-badge.svg\" alt=\"Open In Colab\"/></a>"
      ]
    },
    {
      "cell_type": "code",
      "execution_count": 30,
      "metadata": {
        "colab": {
          "base_uri": "https://localhost:8080/",
          "height": 627
        },
        "id": "22yI3Y7JhLRU",
        "outputId": "a17baed0-d812-42a0-cd57-f8a6c6598088"
      },
      "outputs": [
        {
          "output_type": "stream",
          "name": "stdout",
          "text": [
            "2.2201e+16\n",
            "3.5836214634475925e+28\n",
            "2.219921931279289e+16\n",
            "3.5839089199029376e+28\n",
            "2.2195658226999164e+16\n",
            "3.584483924573227e+28\n",
            "2.2190317314144644e+16\n",
            "3.585346661955417e+28\n",
            "2.218319743183307e+16\n",
            "3.5864974088825796e+28\n"
          ]
        },
        {
          "output_type": "display_data",
          "data": {
            "text/plain": [
              "<Figure size 640x480 with 1 Axes>"
            ],
            "image/png": "[encoded data removed]"
          },
          "metadata": {}
        }
      ],
      "source": [
        "import numpy as np\n",
        "from time import sleep\n",
        "from matplotlib import pyplot as plt\n",
        "\n",
        "\n",
        "t = 0\n",
        "dt = 3600 * 24\n",
        "G = 6.67e-11\n",
        "\n",
        "planets = []\n",
        "\n",
        "class Planet():\n",
        "  def __init__(self, name, mass, size, location, speed, acceleration, color):\n",
        "    global planets\n",
        "\n",
        "    self.name = name\n",
        "    self.mass = mass # massa van de planeet in kg\n",
        "    self.size = size # grootte van de planeet\n",
        "    self.location = location # start locatie van de planeet\n",
        "    self.speed = speed # snelheid van de planeet in km/s\n",
        "    self.acceleration = acceleration # versnelling van de planeet\n",
        "    self.color = color # kleur van de planeet\n",
        "\n",
        "    planets.append(self)\n",
        "\n",
        "  def plot(self):\n",
        "    \"\"\"plot de planeet op een plot\"\"\"\n",
        "\n",
        "    plt.plot(self.location[0], self.location[1], \"o\", markerfacecolor=self.color) # plot de locatie van de planeet op een pyplot\n",
        "\n",
        "# Create planets\n",
        "earth = Planet(\"Earth\", 5.997e24, 5.0, [0,0], 9.80e-3, 2, \"tab:blue\")\n",
        "sun = Planet(\"Sun\", 1.989e30, 20.0, [0, 149e6], 274.1e-3, 2, \"tab:orange\")\n",
        "\n",
        "\n",
        "for i in range(1):\n",
        "  t += dt\n",
        "\n",
        "  planet = earth\n",
        "  centre_planet = sun\n",
        "\n",
        "  # Use pythagorean theorem to calculate distance between planets\n",
        "  x_difference = abs(planet.location[0] - centre_planet.location[0])\n",
        "  y_difference = abs(planet.location[1] - centre_planet.location[1])\n",
        "\n",
        "  distance_squared = x_difference ** 2 + y_difference ** 2\n",
        "  print(distance_squared)\n",
        "\n",
        "  # Calculate gravitational force\n",
        "  F = G * ((planet.mass * centre_planet.mass) / distance_squared)\n",
        "  print(F)\n",
        "\n",
        "  # Calculate acceleration using F = m * a -> a = F/m\n",
        "  planet.acceleration = F / planet.mass\n",
        "\n",
        "  # set speed and new location\n",
        "  planet.speed += planet.acceleration\n",
        "  planet.location[0] += planet.speed\n",
        "  planet.location[1] += planet.speed\n",
        "\n",
        "\n",
        "\n",
        "  for planet in planets:\n",
        "    planet.plot()\n",
        "\n",
        "\n",
        "\n",
        "\n",
        "  # # move every planet to a new location\n",
        "  # for planet in planets:\n",
        "\n",
        "  #     # Calculate gravitational force between planets\n",
        "  #     for other_planet in planets:\n",
        "  #       if planet.name != other_planet.name:\n",
        "            # # Use pythagorean theorem to calculate distance between planets\n",
        "          # x_difference = abs(other_planet.location[0] - planet.location[0])\n",
        "          # y_difference = abs(other_planet.location[1] - planet.location[1])\n"
      ]
    }
  ]
}